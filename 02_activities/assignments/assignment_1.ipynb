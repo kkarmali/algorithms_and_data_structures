{
 "cells": [
  {
   "cell_type": "markdown",
   "metadata": {},
   "source": [
    "# Coding Problems\n",
    "\n",
    "## Objective\n",
    "\n",
    "This assignment aims to demonstrate how to study a data structures or algorithms question in depth to prepare for an industry coding interview. Leetcode is a popular coding practice site that many use to practice for technical interviews. Like behavioral interviews, it's important to practice and keep your skills sharp.\n",
    "\n",
    "## Group Size\n",
    "\n",
    "Please complete this individually.\n",
    "\n",
    "## Parts:\n",
    "- Part 1: Figure out the problem you have been assigned, and understand the problem\n",
    "- Part 2: Answer the questions about your assigned problem (including solving it)\n",
    "\n",
    "## Part 1:\n",
    "\n",
    "_*You will be assigned one of three problems based of your first name. Enter your first name, in all lower case, execute the code below, and that will tell you your assigned problem. Include the output as part of your submission (do not clear the output). The problems are based-off problems from Leetcode.*_\n"
   ]
  },
  {
   "cell_type": "code",
   "execution_count": 1,
   "metadata": {},
   "outputs": [
    {
     "name": "stdout",
     "output_type": "stream",
     "text": [
      "3\n"
     ]
    }
   ],
   "source": [
    "import hashlib\n",
    "\n",
    "def hash_to_range(input_string: str) -> int:\n",
    "     hash_object = hashlib.sha256(input_string.encode())\n",
    "     hash_int = int(hash_object.hexdigest(), 16)\n",
    "     return (hash_int % 3) + 1\n",
    "input_string = \"karmali\"\n",
    "result = hash_to_range(input_string)\n",
    "print(result)\n"
   ]
  },
  {
   "cell_type": "markdown",
   "metadata": {},
   "source": [
    "## Question One: First Duplicate in List\n",
    "**Description**  \n",
    "Given a list of integers, return the **first value that appears more than once**. If there are multiple duplicates, return the one that appears **first** in the list. If no duplicate exists, return `-1`.\n",
    "\n",
    "**Examples**\n",
    "```python\n",
    "Input: nums = [3, 1, 4, 2, 5, 1, 6]\n",
    "Output: 1\n",
    "```\n",
    "```python\n",
    "Input: nums = [7, 8, 9, 10]\n",
    "Output: -1\n",
    "```\n",
    "```python\n",
    "Input: nums = [4, 5, 6, 4, 6]\n",
    "Output: 4\n",
    "```\n",
    "\n",
    "**Question 1 Starter Code**"
   ]
  },
  {
   "cell_type": "code",
   "execution_count": null,
   "metadata": {},
   "outputs": [],
   "source": [
    "from typing import List\n",
    "\n",
    "def first_duplicate(nums: List[int]) -> int:\n",
    "    # TODO\n",
    "    pass"
   ]
  },
  {
   "cell_type": "markdown",
   "metadata": {},
   "source": [
    "## Question Two: Valid Bracket Sequence\n",
    "**Description**  \n",
    "Given a string containing only the characters `'('`, `')'`, `'{'`, `'}'`, `'['`, and `']'`, determine if the input string is a **valid bracket sequence**.  \n",
    "A string is valid if:\n",
    "- Open brackets are closed by the same type of brackets, and\n",
    "- Open brackets are closed in the correct order.\n",
    "\n",
    "**Examples**\n",
    "```python\n",
    "Input: s = \"([]{})\"\n",
    "Output: True\n",
    "```\n",
    "```python\n",
    "Input: s = \"([)]\"\n",
    "Output: False\n",
    "```\n",
    "```python\n",
    "Input: s = \"()[]{}\"\n",
    "Output: True\n",
    "```\n",
    "```python\n",
    "Input: s = \"[{]}\"\n",
    "Output: False\n",
    "```\n",
    "\n",
    "**Question 2 Starter Code**"
   ]
  },
  {
   "cell_type": "code",
   "execution_count": 1,
   "metadata": {},
   "outputs": [],
   "source": [
    "def is_valid_brackets(s: str) -> bool:\n",
    "    # TODO\n",
    "    pass"
   ]
  },
  {
   "cell_type": "markdown",
   "metadata": {},
   "source": [
    "## Question Three: Move All Zeros to End\n",
    "**Description**  \n",
    "Given a list of integers, move all zeros to the end while maintaining the relative order of the non-zero elements. \n",
    "\n",
    "**Examples**\n",
    "```python\n",
    "Input: nums = [0, 1, 0, 3, 12]\n",
    "Output: [1, 3, 12, 0, 0]\n",
    "```\n",
    "```python\n",
    "Input: nums = [4, 0, 5, 0, 0, 6]\n",
    "Output: [4, 5, 6, 0, 0, 0]\n",
    "```\n"
   ]
  },
  {
   "cell_type": "code",
   "execution_count": 26,
   "metadata": {},
   "outputs": [
    {
     "name": "stdout",
     "output_type": "stream",
     "text": [
      "Input: [0, 1, 0, 3, 12], Output: [1, 3, 12, 0, 0]\n",
      "Input: [4, 0, 5, 0, 0, 6], Output: [4, 5, 6, 0, 0, 0]\n"
     ]
    }
   ],
   "source": [
    "from typing import List\n",
    "\n",
    "class Solution:\n",
    "    def move_zeros_to_end(nums: List[int]) -> List[int]:\n",
    "        \"\"\"\n",
    "        Moves all zeros to the end of the list in-place while\n",
    "        maintaining the relative order of the non-zero elements.\n",
    "        \"\"\"\n",
    "        # Pointer for the position of the next non-zero element\n",
    "        left = 0\n",
    "        \n",
    "        # Iterate through the list with the 'right' pointer\n",
    "        for right in range(len(nums)):\n",
    "            # If the current element is not a zero\n",
    "            if nums[right] != 0:\n",
    "                # Swap the non-zero element with the element at the 'left' pointer\n",
    "                nums[left], nums[right] = nums[right], nums[left]\n",
    "                # Move the 'left' pointer forward\n",
    "                left += 1\n",
    "        # TODO\n",
    "        pass\n",
    "\n",
    "# Example usage:\n",
    "solution = Solution()\n",
    "\n",
    "# Example 1\n",
    "nums1 = [0, 1, 0, 3, 12]\n",
    "solution.move_zeros_to_end(nums1)\n",
    "print(f\"Input: [0, 1, 0, 3, 12], Output: {nums1}\")\n",
    "\n",
    "# Example 2\n",
    "nums2 = [4, 0, 5, 0, 0, 6]\n",
    "solution.move_zeros_to_end(nums2)\n",
    "print(f\"Input: [4, 0, 5, 0, 0, 6], Output: {nums2}\")\n"
   ]
  },
  {
   "cell_type": "markdown",
   "metadata": {},
   "source": [
    "\n",
    "## Part 2:\n",
    "\n",
    "-   Paraphrase the problem in your own words\n"
   ]
  },
  {
   "cell_type": "markdown",
   "metadata": {},
   "source": [
    "# Your answer here\n",
    "\n",
    "# Explanation of the approach: (This answer was derived from google search)\n",
    "Two-pointer algorithm\n",
    "Initialize a pointer, refered to as left or insert_pos, to 0. This pointer tracks the position where the next non-zero element should be placed.\n",
    "Iterate through the list with a second pointer, right.\n",
    "If the element at nums[right] is non-zero, swap it with the element at nums[left] and then increment left. This moves the non-zero element to its correct position at the front of the array.\n",
    "If the element at nums[right] is zero, do nothing and continue to the next element. The left pointer remains in place, correctly holding the spot for the next non-zero number.\n",
    "After the loop finishes, all non-zero elements will be in their correct relative order at the beginning of the list, and all zeros will be at the end. "
   ]
  },
  {
   "cell_type": "markdown",
   "metadata": {},
   "source": [
    "- In this .ipynb file, there are examples that illustrate how the code should work (the examples provided above). Create 2 new examples for the question you have been assigned, that demonstrate you understand the problem. For question 1 and 2, you don't need to create the tree demonstration, just the input and output.\n"
   ]
  },
  {
   "cell_type": "code",
   "execution_count": 31,
   "metadata": {},
   "outputs": [
    {
     "name": "stdout",
     "output_type": "stream",
     "text": [
      "Input: [0, 0, 0], Output: [1, 0, 0, 0]\n",
      "Input: [1, 2, 3], Output: [1, 2, 3]\n"
     ]
    }
   ],
   "source": [
    "# Your answer here\n",
    "# Example 3 \n",
    "nums3 = [0, 0, 0, 1]\n",
    "solution.move_zeros_to_end(nums3)\n",
    "print(f\"Input: [0, 0, 0], Output: {nums3}\")\n",
    "\n",
    "# Example 4 (no zeros)\n",
    "nums4 = [1, 2, 3]\n",
    "solution.move_zeros_to_end(nums4)\n",
    "print(f\"Input: [1, 2, 3], Output: {nums4}\")"
   ]
  },
  {
   "cell_type": "markdown",
   "metadata": {},
   "source": [
    "\n",
    "-   Code the solution to your assigned problem in Python (code chunk). Note: each problem can be solved more simply if you use an abstract data type that is suitable for that problem. Using that try to find the best time and space complexity solution!\n"
   ]
  },
  {
   "cell_type": "code",
   "execution_count": 35,
   "metadata": {},
   "outputs": [
    {
     "name": "stdout",
     "output_type": "stream",
     "text": [
      "Input: [0, 1, 0, 3, 12], Output: [1, 3, 12, 0, 0]\n"
     ]
    }
   ],
   "source": [
    "# Your answer here\n",
    "from typing import List\n",
    "\n",
    "class Solution:\n",
    "    def move_zeros_to_end(self, nums: List[int]) -> None:\n",
    "        \"\"\"\n",
    "        Moves all zeros to the end of the list in-place while\n",
    "        maintaining the relative order of the non-zero elements.\n",
    "        \"\"\"\n",
    "        left = 0\n",
    "        for right in range(len(nums)):\n",
    "            if nums[right] != 0:\n",
    "                nums[left], nums[right] = nums[right], nums[left]\n",
    "                left += 1\n",
    "\n",
    "# Example usage:\n",
    "solution = Solution()\n",
    "\n",
    "# Example 1\n",
    "nums1 = [0, 1, 0, 3, 12]\n",
    "solution.move_zeros_to_end(nums1)\n",
    "print(f\"Input: [0, 1, 0, 3, 12], Output: {nums1}\")"
   ]
  },
  {
   "cell_type": "markdown",
   "metadata": {},
   "source": [
    "\n",
    "-   Explain why your solution works\n"
   ]
  },
  {
   "cell_type": "code",
   "execution_count": null,
   "metadata": {},
   "outputs": [],
   "source": [
    "# Your answer here\n",
    "\n",
    "# The solution works because it uses a two-pointer approach to efficiently rearrange the list in-place.\n",
    "# The 'left' pointer keeps track of the position where the next non-zero element should go.\n",
    "# As we iterate through the list with the 'right' pointer, every time we find a non-zero value,\n",
    "# we swap it with the value at the 'left' pointer and increment 'left'.\n",
    "# This ensures all non-zero elements are moved to the front in their original order,\n",
    "# and all zeros are shifted to the end, without using extra space."
   ]
  },
  {
   "cell_type": "markdown",
   "metadata": {},
   "source": [
    "\n",
    "-   Explain the problem’s time and space complexity\n"
   ]
  },
  {
   "cell_type": "code",
   "execution_count": null,
   "metadata": {},
   "outputs": [],
   "source": [
    "# Your answer here\n",
    "\n",
    "# The time complexity of the move_zeros_to_end solution is O(n),\n",
    "# where n is the length of the input list. This is because we iterate through the list once.\n",
    "# The space complexity is O(1), since the operation is performed in-place and does not require any extra data structures."
   ]
  },
  {
   "cell_type": "markdown",
   "metadata": {},
   "source": [
    "\n",
    "-   Explain the thinking to an alternative solution (no coding required, but a classmate reading this should be able to code it up based off your text)\n"
   ]
  },
  {
   "cell_type": "code",
   "execution_count": null,
   "metadata": {},
   "outputs": [],
   "source": [
    "# Your answer here\n",
    "\n",
    "# An alternative solution is to create a new list to store all non-zero elements from the original list.\n",
    "# First, iterate through the input list and append each non-zero element to the new list.\n",
    "# After collecting all non-zero elements, count the number of zeros in the original list.\n",
    "# Then, extend the new list by adding that many zeros at the end.\n",
    "# Finally, copy the contents of the new list back into the original list to maintain in-place modification.\n",
    "# This approach uses extra space proportional to the input size, but is straightforward and easy to implement."
   ]
  },
  {
   "cell_type": "markdown",
   "metadata": {},
   "source": [
    "## Evaluation Criteria\n",
    "\n",
    "-   Problem is accurately stated\n",
    "\n",
    "-   Two examples are correct and easily understandable\n",
    "\n",
    "-   Correctness, time, and space complexity of the coding solution\n",
    "\n",
    "-   Clarity in explaining why the solution works, its time and space complexity\n",
    "\n",
    "-   Clarity in the proposal to the alternative solution"
   ]
  },
  {
   "cell_type": "markdown",
   "metadata": {},
   "source": [
    "## Submission Information\n",
    "\n",
    "🚨 **Please review our [Assignment Submission Guide](https://github.com/UofT-DSI/onboarding/blob/main/onboarding_documents/submissions.md)** 🚨 for detailed instructions on how to format, branch, and submit your work. Following these guidelines is crucial for your submissions to be evaluated correctly.\n",
    "\n",
    "### Submission Parameters:\n",
    "* Submission Due Date: `HH:MM AM/PM - DD/MM/YYYY`\n",
    "* The branch name for your repo should be: `assignment-1`\n",
    "* What to submit for this assignment:\n",
    "    * This Jupyter Notebook (assignment_1.ipynb) should be populated and should be the only change in your pull request.\n",
    "* What the pull request link should look like for this assignment: `https://github.com/<your_github_username>/algorithms_and_data_structures/pull/<pr_id>`\n",
    "    * Open a private window in your browser. Copy and paste the link to your pull request into the address bar. Make sure you can see your pull request properly. This helps the technical facilitator and learning support staff review your submission easily.\n",
    "\n",
    "Checklist:\n",
    "- [Y ] Create a branch called `assignment-1`.\n",
    "- [Y] Ensure that the repository is public.\n",
    "- [Y] Review [the PR description guidelines](https://github.com/UofT-DSI/onboarding/blob/main/onboarding_documents/submissions.md#guidelines-for-pull-request-descriptions) and adhere to them.\n",
    "- [Y] Verify that the link is accessible in a private browser window.\n",
    "\n",
    "If you encounter any difficulties or have questions, please don't hesitate to reach out to our team via our Slack at `#cohort-3-help`. Our Technical Facilitators and Learning Support staff are here to help you navigate any challenges."
   ]
  }
 ],
 "metadata": {
  "kernelspec": {
   "display_name": "dsi_participant",
   "language": "python",
   "name": "python3"
  },
  "language_info": {
   "codemirror_mode": {
    "name": "ipython",
    "version": 3
   },
   "file_extension": ".py",
   "mimetype": "text/x-python",
   "name": "python",
   "nbconvert_exporter": "python",
   "pygments_lexer": "ipython3",
   "version": "3.9.19"
  }
 },
 "nbformat": 4,
 "nbformat_minor": 4
}

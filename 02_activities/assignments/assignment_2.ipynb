{
 "cells": [
  {
   "cell_type": "markdown",
   "metadata": {},
   "source": [
    "# Practice Interview\n",
    "\n",
    "## Objective\n",
    "\n",
    "_*The partner assignment aims to provide participants with the opportunity to practice coding in an interview context. You will analyze your partner's Assignment 1. Moreover, code reviews are common practice in a software development team. This assignment should give you a taste of the code review process.*_\n",
    "\n",
    "## Group Size\n",
    "\n",
    "Each group should have 2 people. You will be assigned a partner\n",
    "\n",
    "## Parts:\n",
    "- Part 1: Complete 1 of 3 questions\n",
    "- Part 2: Review your partner's Assignment 1 submission\n",
    "- Part 3: Perform code review of your partner's assignment 1 by answering the questions below\n",
    "- Part 3: Reflect on Assignment 1 and Assignment 2\n",
    "\n",
    "## Part 1:\n",
    "\n",
    "_*You will be assigned one of three problems based of your first name. Enter your first name, in all lower case, execute the code below, and that will tell you your assigned problem. Include the output as part of your submission (do not clear the output). The problems are based-off problems from Leetcode.*_"
   ]
  },
  {
   "cell_type": "code",
   "execution_count": null,
   "metadata": {},
   "outputs": [],
   "source": [
    "import hashlib\n",
    "\n",
    "def hash_to_range(input_string: str) -> int:\n",
    "     hash_object = hashlib.sha256(input_string.encode())\n",
    "     hash_int = int(hash_object.hexdigest(), 16)\n",
    "     return (hash_int % 3) + 1\n",
    "input_string = \"karmali\"\n",
    "result = hash_to_range(input_string)\n",
    "print(result)\n"
   ]
  },
  {
   "cell_type": "markdown",
   "metadata": {},
   "source": [
    "<details>\n",
    "  <summary>Question 1</summary>\n",
    "\n",
    "  # Question One: Check Duplicates in Tree\n",
    "\n",
    "  Given the `root` of a binary tree, check whether it is contains a duplicate value. If a duplicate exists, return the duplicate value. If there are multiple duplicates, return the one with the closest distance to the root. If no duplicate exists, return -1.\n",
    "\n",
    "  ## Examples\n",
    "\n",
    "  ### Example 1\n",
    "\n",
    "  ![](./images/q1_ex1.png)\n",
    "\n",
    "  Input: `root = [1, 2, 2, 3, 5, 6, 7]` *What traversal method is this?*\n",
    "\n",
    "  Output: 2\n",
    "\n",
    "  ### Example 2\n",
    "\n",
    "  ![](./images/q1_ex2.png)\n",
    "\n",
    "  Input: `root = [1, 10, 2, 3, 10, 12, 12]`\n",
    "\n",
    "  Output: 10\n",
    "\n",
    "  ### Example 3\n",
    "\n",
    "  ![](./images/q1_ex3.png)\n",
    "\n",
    "  Input: `root = [10, 9, 8, 7]`\n",
    "\n",
    "  Output: -1\n",
    "\n",
    "</details>\n",
    "\n",
    "#### Starter Code for Question 1"
   ]
  },
  {
   "cell_type": "code",
   "execution_count": null,
   "metadata": {},
   "outputs": [],
   "source": [
    "# Definition for a binary tree node.\n",
    "# class TreeNode(object):\n",
    "#     def __init__(self, val = 0, left = None, right = None):\n",
    "#         self.val = val\n",
    "#         self.left = left\n",
    "#         self.right = right\n",
    "def is_duplicate(root: TreeNode) -> int:\n",
    "  # TODO"
   ]
  },
  {
   "cell_type": "markdown",
   "metadata": {},
   "source": [
    "<details>\n",
    "  <summary>Question 2</summary>\n",
    "\n",
    "  # Question Two: Path to Leaves\n",
    "\n",
    "  Given the `root` of a binary tree, return all root to leaf paths in any order.\n",
    "\n",
    "  ## Examples\n",
    "\n",
    "  ### Example 1\n",
    "\n",
    "  ![](./images/q1_ex1.png)\n",
    "\n",
    "  Input: `root = [1, 2, 2, 3, 5, 6, 7]` *What traversal method is this?*\n",
    "\n",
    "  Output: [[1, 2, 3], [1, 2, 5], [1, 2, 6], [1, 2, 7]]\n",
    "\n",
    "  ### Example 2\n",
    "\n",
    "  ![](./images/q1_ex3.png)\n",
    "\n",
    "  Input: `root = [10, 9, 7, 8]`\n",
    "\n",
    "  Output: [[10, 7], [10, 9, 8]]\n",
    "\n",
    "</details>\n",
    "\n",
    "#### Starter Code for Question 2"
   ]
  },
  {
   "cell_type": "code",
   "execution_count": null,
   "metadata": {},
   "outputs": [],
   "source": [
    "# Definition for a binary tree node.\n",
    "# class TreeNode(object):\n",
    "#     def __init__(self, val = 0, left = None, right = None):\n",
    "#         self.val = val\n",
    "#         self.left = left\n",
    "#         self.right = right\n",
    "def bt_path(root: TreeNode) -> List[List[int]]:\n",
    "  # TODO"
   ]
  },
  {
   "cell_type": "markdown",
   "metadata": {},
   "source": [
    "<details>\n",
    "  <summary>Question 3</summary>\n",
    "\n",
    "  # Question Three: Missing Number in Range\n",
    " \n",
    "  You are given a list containing `n` integers in the range `[0, n]`. Return a list of numbers that are missing from the range `[0, n]` of the array. If there is no missing number, return -1. Note, all the integers in the list may not be unique.\n",
    "  \n",
    "  ## Examples\n",
    "\n",
    "  ### Example 1\n",
    "\n",
    "  Input: `lst = [0, 2]`\n",
    "\n",
    "  Output: [1]\n",
    "\n",
    "  ### Example 2\n",
    "\n",
    "  Input: `lst = [5, 0, 1]`\n",
    "\n",
    "  Output: [2, 3, 4]\n",
    "\n",
    "  ### Example 3\n",
    "\n",
    "  Input: `lst = [6, 8, 2, 3, 5, 7, 0, 1, 10]`\n",
    "\n",
    "  Output: [4, 9]\n",
    "\n",
    "</details>\n",
    "\n",
    "#### Starter Code for Question 3\n"
   ]
  },
  {
   "cell_type": "code",
   "execution_count": 1,
   "metadata": {},
   "outputs": [
    {
     "name": "stdout",
     "output_type": "stream",
     "text": [
      "Input: [0, 2], Output: [1]\n",
      "Input: [5, 0, 1], Output: [2, 3, 4]\n",
      "Input: [6, 8, 2, 3, 5, 7, 0, 1, 10], Output: [4, 9]\n"
     ]
    }
   ],
   "source": [
    "from typing import List\n",
    "\n",
    "def missing_num(nums: List) -> int:\n",
    "\n",
    "    # TODO\n",
    "    n = len(nums)\n",
    "    full_set = set(range(0, max(nums)+ 1))\n",
    "    \n",
    "    # Find the missing numbers using set difference\n",
    "    missing = sorted(full_set - set(nums))\n",
    "    \n",
    "    if missing:\n",
    "        return missing\n",
    "    else:\n",
    "        return -1\n",
    "\n",
    "# Example 1\n",
    "lst1 = [0, 2]\n",
    "print(f\"Input: {lst1}, Output: {missing_num(lst1)}\")\n",
    "\n",
    "# Example 2\n",
    "lst2 = [5, 0, 1]\n",
    "print(f\"Input: {lst2}, Output: {missing_num(lst2)}\")\n",
    "\n",
    "# Example 3\n",
    "lst3 = [6, 8, 2, 3, 5, 7, 0, 1, 10]\n",
    "print(f\"Input: {lst3}, Output: {missing_num(lst3)}\")"
   ]
  },
  {
   "cell_type": "markdown",
   "metadata": {
    "jp-MarkdownHeadingCollapsed": true
   },
   "source": [
    "## Part 2:\n",
    "\n",
    "You and your partner must share each other's Assignment 1 submission."
   ]
  },
  {
   "cell_type": "code",
   "execution_count": null,
   "metadata": {},
   "outputs": [],
   "source": [
    "# 02_activities/assignments/assignment_1.ipynb\n",
    "#https://github.com/OlgaNazarenko/algorithms_and_data_structures/blob/assignment-1/02_activities/assignments/assignment_1.ipynb"
   ]
  },
  {
   "cell_type": "markdown",
   "metadata": {},
   "source": [
    "\n",
    "## Part 3:\n",
    "\n",
    "Create a Jupyter Notebook, create 6 of the following headings, and complete the following for your partner's assignment 1:\n",
    "\n",
    "-   Paraphrase the problem in your own words.\n"
   ]
  },
  {
   "cell_type": "code",
   "execution_count": null,
   "metadata": {},
   "outputs": [],
   "source": [
    "# Your answer here\n",
    "\n",
    "    #Q1 - requires a search and boolen return. \n",
    "    # The function is to run a search of duplicate values in a list and in this case and only returning only the first duplicate found.\n",
    "    # The list is made of integers.\n",
    "    # if there are no duplicates in the list, a the code should return -1 and if a duplicate is found, it should return the value of the first duplicate found."
   ]
  },
  {
   "cell_type": "markdown",
   "metadata": {},
   "source": [
    "\n",
    "-   Create 1 new example that demonstrates you understand the problem. Trace/walkthrough 1 example that your partner made and explain it.\n"
   ]
  },
  {
   "cell_type": "code",
   "execution_count": null,
   "metadata": {},
   "outputs": [],
   "source": [
    "# Your answer here\n",
    "    # My partner answered Q2\n",
    "    # Q2  - is to search in a string, for a correct sequence of brackets and to determine if the sequence is valid or not.\n",
    "    # A valid sequence is one where every opening bracket has a corresponding closing bracket in the correct order.\n",
    "# for the sake of this assignment, I will be reviewing the question my partner completed. Q2\n",
    "\n"
   ]
  },
  {
   "cell_type": "code",
   "execution_count": 2,
   "metadata": {},
   "outputs": [],
   "source": [
    "def is_valid_brackets(s: str) -> bool: \n",
    "    # opening_brackets = \"({[\"\n",
    "    # closing_brackets = \")}]\"\n",
    "\n",
    "    stack = []\n",
    "\n",
    "    for el in s:                            # iterate through each character in the string\n",
    "        if el == \"(\":                           # if ( is an opening bracket, \n",
    "            stack.append(\")\")                       # push ) as the corresponding closing bracket onto the stack\n",
    "        elif el == \"{\":                         # if { is an opening bracket,\n",
    "            stack.append('}')                       # push } as the corresponding closing bracket onto the stack\n",
    "        elif el == \"[\":                         # if [ is an opening bracket,    \n",
    "            stack.append(\"]\")                       # push ] as the corresponding closing bracket onto the stack\n",
    "        elif not stack or el != stack.pop():    # if the stack is empty or the current character does not match the top of the stack\n",
    "            return False                            # return False\n",
    "    return len(stack) == 0                  # if the stack is empty at the end, return True, else return False\n"
   ]
  },
  {
   "cell_type": "code",
   "execution_count": 3,
   "metadata": {},
   "outputs": [
    {
     "name": "stdout",
     "output_type": "stream",
     "text": [
      "True\n",
      "False\n",
      "True\n",
      "False\n"
     ]
    }
   ],
   "source": [
    "s1 = \"([]{})\"\n",
    "print(is_valid_brackets(s1))\n",
    "\n",
    "s2 = \"([)]\"\n",
    "print(is_valid_brackets(s2))\n",
    "\n",
    "s3 = \"()[]{}\"\n",
    "print(is_valid_brackets(s3))\n",
    "\n",
    "s4 = \"[{]}\"\n",
    "print(is_valid_brackets(s4))"
   ]
  },
  {
   "cell_type": "markdown",
   "metadata": {},
   "source": [
    "\n",
    "-   Copy the solution your partner wrote. \n"
   ]
  },
  {
   "cell_type": "code",
   "execution_count": 4,
   "metadata": {},
   "outputs": [],
   "source": [
    "# Your answer here\n",
    "def is_valid_brackets(s: str) -> bool:\n",
    "    # opening_brackets = \"({[\"\n",
    "    # closing_brackets = \")}]\"\n",
    "\n",
    "    stack = []\n",
    "\n",
    "    for el in s:\n",
    "        if el == \"(\":\n",
    "            stack.append(\")\")\n",
    "        elif el == \"{\":\n",
    "            stack.append('}')\n",
    "        elif el == \"[\":\n",
    "            stack.append(\"]\")\n",
    "        elif not stack or el != stack.pop():\n",
    "            return False\n",
    "    return len(stack) == 0"
   ]
  },
  {
   "cell_type": "code",
   "execution_count": 5,
   "metadata": {},
   "outputs": [
    {
     "name": "stdout",
     "output_type": "stream",
     "text": [
      "True\n"
     ]
    }
   ],
   "source": [
    "# My example to test my partner's solution\n",
    "s5 = \"({[()]})\"\n",
    "print(is_valid_brackets(s5))"
   ]
  },
  {
   "cell_type": "markdown",
   "metadata": {},
   "source": [
    "\n",
    "-   Explain why their solution works in your own words.\n"
   ]
  },
  {
   "cell_type": "code",
   "execution_count": 6,
   "metadata": {},
   "outputs": [],
   "source": [
    "# Your answer here\n",
    "\n",
    "# the stack function in NumPy is used to join a sequence of arrays along a new axis.\n",
    "# Resulting in one more dimension than the input arrays.\n",
    "# Additionally the stack is a linear data structure that follows the LIFO (Last In First Out) principle.\n",
    "# for  this case, this function fits as a tool to evaluate bracket expressions\n",
    "# and the append method has been used to add elements to the stack and\n",
    "# elif to handle multiple mutually exclusive conditions to avoid nested if statements.\n",
    "# finally the Pop method is used to remove and return the last element from the stack\n",
    "    # checking for matching brackets\n",
    "    # and keeps track of opening brackets and ensure they are properly closed in the correct order."
   ]
  },
  {
   "cell_type": "markdown",
   "metadata": {},
   "source": [
    "\n",
    "-   Explain the problem’s time and space complexity in your own words.\n"
   ]
  },
  {
   "cell_type": "code",
   "execution_count": 7,
   "metadata": {},
   "outputs": [],
   "source": [
    "# Your answer here\n",
    "    # A stack is an abstract data type and functions on the Last-In, First-Out (LIFO) principle. \n",
    "    # The primary operations associated with a stack are:\n",
    "        #push: Add an element to the top of the stack.\n",
    "        #pop: Remove and returns the element from the top of the stack.\n",
    "        #peek (or top): Return the value of the top element without removing it.\n",
    "        #isempty: Check if the stack is empty.\n",
    "\n",
    "# Time and Space Complexity of Stack Operations (including append/push):\n",
    "    # Time Complexity: O(1) on average.\n",
    "        #  Adding an element to the end of a dynamic array can be assumed to be of constant time, O(1), because it involves placing the element at the next available index.\n",
    "        \n",
    "# Space Complexity: O(1) for the operation itself.\n",
    "    #   Adding a single element requires a constant amount of additional memory for that element. \n",
    "    #   The overall space complexity of the stack data structure, is O(n), where 'n' is the number of elements currently in the stack."
   ]
  },
  {
   "cell_type": "markdown",
   "metadata": {},
   "source": [
    "\n",
    "-   Critique your partner's solution, including explanation, and if there is anything that should be adjusted.\n"
   ]
  },
  {
   "cell_type": "code",
   "execution_count": 8,
   "metadata": {},
   "outputs": [
    {
     "name": "stdout",
     "output_type": "stream",
     "text": [
      "True\n"
     ]
    }
   ],
   "source": [
    "# Your answer \n",
    "#As for the solution presented:\n",
    "    #  overall the function is a valid implementation for checking matching brackets in a string.\n",
    "    #   The use of a stack to keep track of opening brackets and ensure they are properly closed in the correct order is appropriate.\n",
    "    #    The function correctly handles different types of brackets and checks for matching pairs.\n",
    "\n",
    "# Adjustments:\n",
    "    # removing the condition \"elif not stack\"  and maintaining \"el !\" \n",
    "    #  would still ensure that the function checks for matching brackets correctly.\n",
    "\n",
    "# testing the function again after adjustment...\n",
    "\n",
    "def is_valid_brackets(s: str) -> bool:\n",
    "    # opening_brackets = \"({[\"\n",
    "    # closing_brackets = \")}]\"\n",
    "\n",
    "    stack = []\n",
    "\n",
    "    for el in s:\n",
    "        if el == \"(\":\n",
    "            stack.append(\")\")\n",
    "        elif el == \"{\":\n",
    "            stack.append('}')\n",
    "        elif el == \"[\":\n",
    "            stack.append(\"]\")\n",
    "        elif el != stack.pop(): # using \"el !=\" \n",
    "            return False\n",
    "    return len(stack) == 0\n",
    "\n",
    "s1 = \"([]{})\"\n",
    "print(is_valid_brackets(s1))"
   ]
  },
  {
   "cell_type": "code",
   "execution_count": 9,
   "metadata": {},
   "outputs": [
    {
     "name": "stdout",
     "output_type": "stream",
     "text": [
      "True\n",
      "False\n",
      "True\n",
      "False\n"
     ]
    }
   ],
   "source": [
    "s1 = \"([]{})\"\n",
    "print(is_valid_brackets(s1))\n",
    "\n",
    "s2 = \"([)]\"\n",
    "print(is_valid_brackets(s2))\n",
    "\n",
    "s3 = \"()[]{}\"\n",
    "print(is_valid_brackets(s3))\n",
    "\n",
    "s4 = \"[{]}\"\n",
    "print(is_valid_brackets(s4))"
   ]
  },
  {
   "cell_type": "markdown",
   "metadata": {},
   "source": [
    "\n",
    "## Part 4:\n",
    "\n",
    "Please write a 200 word reflection documenting your process from assignment 1, and your presentation and review experience with your partner at the bottom of the Jupyter Notebook under a new heading \"Reflection.\" Again, export this Notebook as pdf.\n"
   ]
  },
  {
   "cell_type": "markdown",
   "metadata": {},
   "source": [
    "### Reflection"
   ]
  },
  {
   "cell_type": "code",
   "execution_count": null,
   "metadata": {},
   "outputs": [],
   "source": [
    "# Your answer \n"
   ]
  },
  {
   "cell_type": "markdown",
   "metadata": {},
   "source": [
    "Reflection: Alogarithms and Data structures Individul and Team Assignments \n",
    "\n",
    "Assignment 1\n",
    "In this first attempt of understanding alogarithms and data structures. specifically looking into Array based data structures, searching, sorting, hash map/table/functions. Assignment 1 and 2 supported the learning of approaches that can be used to design solutions for  problemns around abstract data.\n",
    "\n",
    "My segments of the assginmnet reivewed Sets, Lists, some level of Maping and Iterable opperations. As for the group Assignment, I got a chance to review Stack function to review valid pairs.\n",
    "\n",
    "The time and space complexity in each solution could have been better explained in my assignment 1. As well, I could have used a better example for coding my assigned problem. for instance I couldve tried Mergesort. As well, I couldve used the code to display efficiencey for each solution. due to the small list, I doubt the difference wouldve been significant. Either way it would have been a nice addition for my team to review and get familiar with reviewing or selecting the better fit solution for the tasks.\n",
    "\n",
    "As for assigment 2 being 1 week behind as it is taking me quite a while to make sense of my learnings, I did not connect with my partner. I reviewed their work and learned a few things I couldve done to improve my own submission. I applied the timeit to my solutions and learned that the inital 2 pointer approach used to solve my assignment 1 problem was the best solution to use in that case based on the time it took.\n",
    "\n",
    "My partners work was well done and besides the one improvement on their code. their explanation was easy to follow and indicated a deeper understanding of the functions and solutions for data structures.\n",
    "\n"
   ]
  },
  {
   "cell_type": "markdown",
   "metadata": {},
   "source": [
    "\n",
    "## Evaluation Criteria\n",
    "\n",
    "We are looking for the similar points as Assignment 1\n",
    "\n",
    "-   Problem is accurately stated\n",
    "\n",
    "-   New example is correct and easily understandable\n",
    "\n",
    "-   Correctness, time, and space complexity of the coding solution\n",
    "\n",
    "-   Clarity in explaining why the solution works, its time and space complexity\n",
    "\n",
    "-   Quality of critique of your partner's assignment, if necessary\n"
   ]
  },
  {
   "cell_type": "markdown",
   "metadata": {},
   "source": [
    "## Submission Information\n",
    "\n",
    "🚨 **Please review our [Assignment Submission Guide](https://github.com/UofT-DSI/onboarding/blob/main/onboarding_documents/submissions.md)** 🚨 for detailed instructions on how to format, branch, and submit your work. Following these guidelines is crucial for your submissions to be evaluated correctly.\n",
    "\n",
    "### Submission Parameters:\n",
    "* Submission Due Date: `HH:MM AM/PM - DD/MM/YYYY`\n",
    "* The branch name for your repo should be: `assignment-2`\n",
    "* What to submit for this assignment:\n",
    "    * This Jupyter Notebook (assignment_2.ipynb) should be populated and should be the only change in your pull request.\n",
    "* What the pull request link should look like for this assignment: `https://github.com/<your_github_username>/algorithms_and_data_structures/pull/<pr_id>`\n",
    "    * Open a private window in your browser. Copy and paste the link to your pull request into the address bar. Make sure you can see your pull request properly. This helps the technical facilitator and learning support staff review your submission easily.\n",
    "\n",
    "Checklist:\n",
    "- [y ] Created a branch with the correct naming convention.\n",
    "- [y ] Ensured that the repository is public.\n",
    "- [y ] Reviewed the PR description guidelines and adhered to them.\n",
    "- [y ] Verify that the link is accessible in a private browser window.\n",
    "\n",
    "If you encounter any difficulties or have questions, please don't hesitate to reach out to our team via our Slack at `#cohort-6-help`. Our Technical Facilitators and Learning Support staff are here to help you navigate any challenges.\n"
   ]
  },
  {
   "cell_type": "code",
   "execution_count": null,
   "metadata": {},
   "outputs": [],
   "source": []
  }
 ],
 "metadata": {
  "kernelspec": {
   "display_name": "dsi_participant",
   "language": "python",
   "name": "python3"
  },
  "language_info": {
   "codemirror_mode": {
    "name": "ipython",
    "version": 3
   },
   "file_extension": ".py",
   "mimetype": "text/x-python",
   "name": "python",
   "nbconvert_exporter": "python",
   "pygments_lexer": "ipython3",
   "version": "3.9.19"
  }
 },
 "nbformat": 4,
 "nbformat_minor": 4
}
